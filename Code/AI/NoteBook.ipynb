{
 "cells": [
  {
   "cell_type": "markdown",
   "metadata": {
    "id": "IRDbDYYMQt_Y"
   },
   "source": [
    "# RVRT Online Demo on Video Restoration\n",
    "\n",
    "[![arXiv](https://img.shields.io/badge/arXiv-Paper-<COLOR>.svg)](https://arxiv.org/abs/2205.0000)\n",
    "[![GitHub Stars](https://img.shields.io/github/stars/JingyunLiang/RVRT?style=social)](https://github.com/JingyunLiang/VRT)\n",
    "[![download](https://img.shields.io/github/downloads/JingyunLiang/RVRT/total.svg)](https://github.com/JingyunLiang/VRT/releases)\n",
    "![visitors](https://visitor-badge.glitch.me/badge?page_id=jingyunliang/RVRT)\n",
    "\n",
    "This is a **RVRT online demo on Video Restoration** of our paper [''Recurrent Video Restoration Transformer with Guided Deformable Attention''](https://arxiv.org/abs/2205.00000).\n",
    "\n",
    "VRT ahcieves state-of-the-art performance with balanced model size, testing memory, and runtime in\n",
    "- video SR (REDS, Vimeo90K, Vid4 and UDM10)\n",
    "- video deblurring (GoPro, DVD and REDS)\n",
    "- video denoising (DAVIS and Set8)\n",
    "\n",
    "<img src=\"https://raw.githubusercontent.com/JingyunLiang/RVRT/main/assets/vsr_visual.jpg\" width=\"100%\">\n",
    "<img src=\"https://raw.githubusercontent.com/JingyunLiang/RVRT/main/assets/vdb_visual.jpg\" width=\"100%\">\n",
    "<img src=\"https://raw.githubusercontent.com/JingyunLiang/RVRT/main/assets/vdn_visual.jpg\" width=\"100%\">\n",
    "\n"
   ]
  },
  {
   "cell_type": "markdown",
   "metadata": {
    "id": "6BPxh_VmVVIu"
   },
   "source": [
    "# 1. Preparations\n",
    "Before start, make sure that you choose\n",
    "* Runtime Type = Python 3\n",
    "* Hardware Accelerator = GPU\n",
    "* Broswer != Firefox (cannot upload images in step 2)\n",
    "\n",
    "in the **Runtime** menu -> **Change runtime type**\n",
    "\n",
    "Then, we clone the repository, set up the envrironment, and download the pre-trained model."
   ]
  },
  {
   "cell_type": "code",
   "execution_count": 65,
   "metadata": {
    "execution": {
     "iopub.execute_input": "2025-03-26T00:56:47.275914Z",
     "iopub.status.busy": "2025-03-26T00:56:47.275612Z",
     "iopub.status.idle": "2025-03-26T00:56:47.572354Z",
     "shell.execute_reply": "2025-03-26T00:56:47.571350Z",
     "shell.execute_reply.started": "2025-03-26T00:56:47.275894Z"
    },
    "id": "t2AASJh5-hPj",
    "trusted": true
   },
   "outputs": [],
   "source": [
    "!rm -r RVRT"
   ]
  },
  {
   "cell_type": "code",
   "execution_count": 1,
   "metadata": {
    "colab": {
     "base_uri": "https://localhost:8080/"
    },
    "execution": {
     "iopub.execute_input": "2025-03-26T00:59:39.932953Z",
     "iopub.status.busy": "2025-03-26T00:59:39.932762Z",
     "iopub.status.idle": "2025-03-26T00:59:39.937979Z",
     "shell.execute_reply": "2025-03-26T00:59:39.937116Z",
     "shell.execute_reply.started": "2025-03-26T00:59:39.932933Z"
    },
    "id": "9sUpHtZ3uzHR",
    "outputId": "6a67e799-0013-4021-e9fb-d574af036e76",
    "trusted": true
   },
   "outputs": [
    {
     "name": "stdout",
     "output_type": "stream",
     "text": [
      "/kaggle/working\n"
     ]
    }
   ],
   "source": [
    "%cd /kaggle/working/"
   ]
  },
  {
   "cell_type": "code",
   "execution_count": 2,
   "metadata": {
    "colab": {
     "base_uri": "https://localhost:8080/"
    },
    "execution": {
     "iopub.execute_input": "2025-03-26T00:59:43.353565Z",
     "iopub.status.busy": "2025-03-26T00:59:43.353238Z",
     "iopub.status.idle": "2025-03-26T00:59:52.300139Z",
     "shell.execute_reply": "2025-03-26T00:59:52.299314Z",
     "shell.execute_reply.started": "2025-03-26T00:59:43.353531Z"
    },
    "id": "n05DnbYNuzHR",
    "outputId": "a1374971-6c28-44d9-fa45-593283be7ed4",
    "trusted": true
   },
   "outputs": [
    {
     "name": "stdout",
     "output_type": "stream",
     "text": [
      "Cloning into 'RVRT'...\n",
      "remote: Enumerating objects: 563, done.\u001b[K\n",
      "remote: Counting objects: 100% (22/22), done.\u001b[K\n",
      "remote: Compressing objects: 100% (16/16), done.\u001b[K\n",
      "remote: Total 563 (delta 9), reused 15 (delta 6), pack-reused 541 (from 1)\u001b[K\n",
      "Receiving objects: 100% (563/563), 132.83 MiB | 42.11 MiB/s, done.\n",
      "Resolving deltas: 100% (228/228), done.\n",
      "Updating files: 100% (287/287), done.\n"
     ]
    }
   ],
   "source": [
    "!git clone https://github.com/abdallah203451/RVRT"
   ]
  },
  {
   "cell_type": "code",
   "execution_count": 3,
   "metadata": {
    "colab": {
     "base_uri": "https://localhost:8080/"
    },
    "execution": {
     "iopub.execute_input": "2025-03-26T00:59:54.946183Z",
     "iopub.status.busy": "2025-03-26T00:59:54.945895Z",
     "iopub.status.idle": "2025-03-26T00:59:54.952036Z",
     "shell.execute_reply": "2025-03-26T00:59:54.951243Z",
     "shell.execute_reply.started": "2025-03-26T00:59:54.946161Z"
    },
    "id": "Z77aDwwKuzHR",
    "outputId": "7162e774-c473-47ab-f648-a973b2d8a8f7",
    "trusted": true
   },
   "outputs": [
    {
     "name": "stdout",
     "output_type": "stream",
     "text": [
      "/kaggle/working/RVRT\n"
     ]
    }
   ],
   "source": [
    "%cd RVRT"
   ]
  },
  {
   "cell_type": "code",
   "execution_count": 4,
   "metadata": {
    "colab": {
     "base_uri": "https://localhost:8080/"
    },
    "execution": {
     "iopub.execute_input": "2025-03-26T00:59:57.716882Z",
     "iopub.status.busy": "2025-03-26T00:59:57.716569Z",
     "iopub.status.idle": "2025-03-26T01:00:02.361700Z",
     "shell.execute_reply": "2025-03-26T01:00:02.360838Z",
     "shell.execute_reply.started": "2025-03-26T00:59:57.716856Z"
    },
    "id": "GnpnrLfMV2jU",
    "outputId": "cbad038e-2cf6-4951-e201-95bf10ef15f9",
    "trusted": true
   },
   "outputs": [
    {
     "name": "stdout",
     "output_type": "stream",
     "text": [
      "Requirement already satisfied: opencv-python in /usr/local/lib/python3.10/dist-packages (from -r requirement.txt (line 1)) (4.10.0.84)\n",
      "Requirement already satisfied: scikit-image in /usr/local/lib/python3.10/dist-packages (from -r requirement.txt (line 2)) (0.25.0)\n",
      "Requirement already satisfied: pillow in /usr/local/lib/python3.10/dist-packages (from -r requirement.txt (line 3)) (11.0.0)\n",
      "Requirement already satisfied: torchvision in /usr/local/lib/python3.10/dist-packages (from -r requirement.txt (line 4)) (0.20.1+cu121)\n",
      "Collecting hdf5storage (from -r requirement.txt (line 5))\n",
      "  Downloading hdf5storage-0.1.19-py2.py3-none-any.whl.metadata (24 kB)\n",
      "Requirement already satisfied: ninja in /usr/local/lib/python3.10/dist-packages (from -r requirement.txt (line 6)) (1.11.1.3)\n",
      "Collecting lmdb (from -r requirement.txt (line 7))\n",
      "  Downloading lmdb-1.6.2-cp310-cp310-manylinux_2_17_x86_64.manylinux2014_x86_64.whl.metadata (1.1 kB)\n",
      "Requirement already satisfied: requests in /usr/local/lib/python3.10/dist-packages (from -r requirement.txt (line 8)) (2.32.3)\n",
      "Requirement already satisfied: timm in /usr/local/lib/python3.10/dist-packages (from -r requirement.txt (line 9)) (1.0.12)\n",
      "Requirement already satisfied: einops in /usr/local/lib/python3.10/dist-packages (from -r requirement.txt (line 10)) (0.8.0)\n",
      "Requirement already satisfied: numpy>=1.21.2 in /usr/local/lib/python3.10/dist-packages (from opencv-python->-r requirement.txt (line 1)) (1.26.4)\n",
      "Requirement already satisfied: scipy>=1.11.2 in /usr/local/lib/python3.10/dist-packages (from scikit-image->-r requirement.txt (line 2)) (1.13.1)\n",
      "Requirement already satisfied: networkx>=3.0 in /usr/local/lib/python3.10/dist-packages (from scikit-image->-r requirement.txt (line 2)) (3.4.2)\n",
      "Requirement already satisfied: imageio!=2.35.0,>=2.33 in /usr/local/lib/python3.10/dist-packages (from scikit-image->-r requirement.txt (line 2)) (2.36.1)\n",
      "Requirement already satisfied: tifffile>=2022.8.12 in /usr/local/lib/python3.10/dist-packages (from scikit-image->-r requirement.txt (line 2)) (2024.12.12)\n",
      "Requirement already satisfied: packaging>=21 in /usr/local/lib/python3.10/dist-packages (from scikit-image->-r requirement.txt (line 2)) (24.2)\n",
      "Requirement already satisfied: lazy-loader>=0.4 in /usr/local/lib/python3.10/dist-packages (from scikit-image->-r requirement.txt (line 2)) (0.4)\n",
      "Requirement already satisfied: torch==2.5.1 in /usr/local/lib/python3.10/dist-packages (from torchvision->-r requirement.txt (line 4)) (2.5.1+cu121)\n",
      "Requirement already satisfied: filelock in /usr/local/lib/python3.10/dist-packages (from torch==2.5.1->torchvision->-r requirement.txt (line 4)) (3.17.0)\n",
      "Requirement already satisfied: typing-extensions>=4.8.0 in /usr/local/lib/python3.10/dist-packages (from torch==2.5.1->torchvision->-r requirement.txt (line 4)) (4.12.2)\n",
      "Requirement already satisfied: jinja2 in /usr/local/lib/python3.10/dist-packages (from torch==2.5.1->torchvision->-r requirement.txt (line 4)) (3.1.4)\n",
      "Requirement already satisfied: fsspec in /usr/local/lib/python3.10/dist-packages (from torch==2.5.1->torchvision->-r requirement.txt (line 4)) (2024.12.0)\n",
      "Requirement already satisfied: sympy==1.13.1 in /usr/local/lib/python3.10/dist-packages (from torch==2.5.1->torchvision->-r requirement.txt (line 4)) (1.13.1)\n",
      "Requirement already satisfied: mpmath<1.4,>=1.1.0 in /usr/local/lib/python3.10/dist-packages (from sympy==1.13.1->torch==2.5.1->torchvision->-r requirement.txt (line 4)) (1.3.0)\n",
      "Requirement already satisfied: h5py>=2.1 in /usr/local/lib/python3.10/dist-packages (from hdf5storage->-r requirement.txt (line 5)) (3.12.1)\n",
      "Requirement already satisfied: charset-normalizer<4,>=2 in /usr/local/lib/python3.10/dist-packages (from requests->-r requirement.txt (line 8)) (3.4.1)\n",
      "Requirement already satisfied: idna<4,>=2.5 in /usr/local/lib/python3.10/dist-packages (from requests->-r requirement.txt (line 8)) (3.10)\n",
      "Requirement already satisfied: urllib3<3,>=1.21.1 in /usr/local/lib/python3.10/dist-packages (from requests->-r requirement.txt (line 8)) (2.3.0)\n",
      "Requirement already satisfied: certifi>=2017.4.17 in /usr/local/lib/python3.10/dist-packages (from requests->-r requirement.txt (line 8)) (2025.1.31)\n",
      "Requirement already satisfied: pyyaml in /usr/local/lib/python3.10/dist-packages (from timm->-r requirement.txt (line 9)) (6.0.2)\n",
      "Requirement already satisfied: huggingface_hub in /usr/local/lib/python3.10/dist-packages (from timm->-r requirement.txt (line 9)) (0.29.0)\n",
      "Requirement already satisfied: safetensors in /usr/local/lib/python3.10/dist-packages (from timm->-r requirement.txt (line 9)) (0.4.5)\n",
      "Requirement already satisfied: mkl_fft in /usr/local/lib/python3.10/dist-packages (from numpy>=1.21.2->opencv-python->-r requirement.txt (line 1)) (1.3.8)\n",
      "Requirement already satisfied: mkl_random in /usr/local/lib/python3.10/dist-packages (from numpy>=1.21.2->opencv-python->-r requirement.txt (line 1)) (1.2.4)\n",
      "Requirement already satisfied: mkl_umath in /usr/local/lib/python3.10/dist-packages (from numpy>=1.21.2->opencv-python->-r requirement.txt (line 1)) (0.1.1)\n",
      "Requirement already satisfied: mkl in /usr/local/lib/python3.10/dist-packages (from numpy>=1.21.2->opencv-python->-r requirement.txt (line 1)) (2025.0.1)\n",
      "Requirement already satisfied: tbb4py in /usr/local/lib/python3.10/dist-packages (from numpy>=1.21.2->opencv-python->-r requirement.txt (line 1)) (2022.0.0)\n",
      "Requirement already satisfied: mkl-service in /usr/local/lib/python3.10/dist-packages (from numpy>=1.21.2->opencv-python->-r requirement.txt (line 1)) (2.4.1)\n",
      "Requirement already satisfied: tqdm>=4.42.1 in /usr/local/lib/python3.10/dist-packages (from huggingface_hub->timm->-r requirement.txt (line 9)) (4.67.1)\n",
      "Requirement already satisfied: MarkupSafe>=2.0 in /usr/local/lib/python3.10/dist-packages (from jinja2->torch==2.5.1->torchvision->-r requirement.txt (line 4)) (3.0.2)\n",
      "Requirement already satisfied: intel-openmp>=2024 in /usr/local/lib/python3.10/dist-packages (from mkl->numpy>=1.21.2->opencv-python->-r requirement.txt (line 1)) (2024.2.0)\n",
      "Requirement already satisfied: tbb==2022.* in /usr/local/lib/python3.10/dist-packages (from mkl->numpy>=1.21.2->opencv-python->-r requirement.txt (line 1)) (2022.0.0)\n",
      "Requirement already satisfied: tcmlib==1.* in /usr/local/lib/python3.10/dist-packages (from tbb==2022.*->mkl->numpy>=1.21.2->opencv-python->-r requirement.txt (line 1)) (1.2.0)\n",
      "Requirement already satisfied: intel-cmplr-lib-rt in /usr/local/lib/python3.10/dist-packages (from mkl_umath->numpy>=1.21.2->opencv-python->-r requirement.txt (line 1)) (2024.2.0)\n",
      "Requirement already satisfied: intel-cmplr-lib-ur==2024.2.0 in /usr/local/lib/python3.10/dist-packages (from intel-openmp>=2024->mkl->numpy>=1.21.2->opencv-python->-r requirement.txt (line 1)) (2024.2.0)\n",
      "Downloading hdf5storage-0.1.19-py2.py3-none-any.whl (53 kB)\n",
      "\u001b[2K   \u001b[90m━━━━━━━━━━━━━━━━━━━━━━━━━━━━━━━━━━━━━━━━\u001b[0m \u001b[32m53.6/53.6 kB\u001b[0m \u001b[31m3.9 MB/s\u001b[0m eta \u001b[36m0:00:00\u001b[0m\n",
      "\u001b[?25hDownloading lmdb-1.6.2-cp310-cp310-manylinux_2_17_x86_64.manylinux2014_x86_64.whl (294 kB)\n",
      "\u001b[2K   \u001b[90m━━━━━━━━━━━━━━━━━━━━━━━━━━━━━━━━━━━━━━━━\u001b[0m \u001b[32m294.8/294.8 kB\u001b[0m \u001b[31m14.1 MB/s\u001b[0m eta \u001b[36m0:00:00\u001b[0m\n",
      "\u001b[?25hInstalling collected packages: lmdb, hdf5storage\n",
      "Successfully installed hdf5storage-0.1.19 lmdb-1.6.2\n"
     ]
    }
   ],
   "source": [
    "!pip install -r requirement.txt"
   ]
  },
  {
   "cell_type": "code",
   "execution_count": 45,
   "metadata": {
    "execution": {
     "iopub.execute_input": "2025-03-26T00:56:17.556754Z",
     "iopub.status.busy": "2025-03-26T00:56:17.556474Z",
     "iopub.status.idle": "2025-03-26T00:56:17.560001Z",
     "shell.execute_reply": "2025-03-26T00:56:17.559232Z",
     "shell.execute_reply.started": "2025-03-26T00:56:17.556731Z"
    },
    "id": "bjYLB9ipPM6Y",
    "trusted": true
   },
   "outputs": [],
   "source": [
    "# from google.colab import drive\n",
    "# drive.mount('/content/drive/')"
   ]
  },
  {
   "cell_type": "code",
   "execution_count": 46,
   "metadata": {
    "execution": {
     "iopub.execute_input": "2025-03-26T00:56:17.561014Z",
     "iopub.status.busy": "2025-03-26T00:56:17.560814Z",
     "iopub.status.idle": "2025-03-26T00:56:17.575696Z",
     "shell.execute_reply": "2025-03-26T00:56:17.574856Z",
     "shell.execute_reply.started": "2025-03-26T00:56:17.560996Z"
    },
    "id": "uggBsAZcRrwg",
    "trusted": true
   },
   "outputs": [],
   "source": [
    "# %cd /content/RVRT"
   ]
  },
  {
   "cell_type": "code",
   "execution_count": 47,
   "metadata": {
    "execution": {
     "iopub.execute_input": "2025-03-26T00:56:17.576724Z",
     "iopub.status.busy": "2025-03-26T00:56:17.576462Z",
     "iopub.status.idle": "2025-03-26T00:56:17.591202Z",
     "shell.execute_reply": "2025-03-26T00:56:17.590328Z",
     "shell.execute_reply.started": "2025-03-26T00:56:17.576704Z"
    },
    "id": "wiSrFTz3W9Hc",
    "trusted": true
   },
   "outputs": [],
   "source": [
    "# !python scripts/data_preparation/create_lmdb.py --dataset reds"
   ]
  },
  {
   "cell_type": "code",
   "execution_count": 48,
   "metadata": {
    "execution": {
     "iopub.execute_input": "2025-03-26T00:56:17.592293Z",
     "iopub.status.busy": "2025-03-26T00:56:17.592049Z",
     "iopub.status.idle": "2025-03-26T00:56:17.606248Z",
     "shell.execute_reply": "2025-03-26T00:56:17.605405Z",
     "shell.execute_reply.started": "2025-03-26T00:56:17.592261Z"
    },
    "id": "o_1W36plRqzr",
    "trusted": true
   },
   "outputs": [],
   "source": [
    "# !python scripts/data_preparation/create_lmdb.py \\\n",
    "#   --dataroot /content/RVRT/trainsets/train_GT/000 \\\n",
    "#   --save_path /content/RVRT/trainsets/train_GT/000.lmdb"
   ]
  },
  {
   "cell_type": "code",
   "execution_count": 49,
   "metadata": {
    "execution": {
     "iopub.execute_input": "2025-03-26T00:56:17.608918Z",
     "iopub.status.busy": "2025-03-26T00:56:17.608706Z",
     "iopub.status.idle": "2025-03-26T00:56:19.790941Z",
     "shell.execute_reply": "2025-03-26T00:56:19.790083Z",
     "shell.execute_reply.started": "2025-03-26T00:56:17.608901Z"
    },
    "id": "4wKs36mFuzHT",
    "outputId": "66e02c0b-d547-4a5c-fd5a-062ff98aad72",
    "trusted": true
   },
   "outputs": [
    {
     "name": "stdout",
     "output_type": "stream",
     "text": [
      "Traceback (most recent call last):\n",
      "  File \"/kaggle/working/RVRT/main_test_rvrt.py\", line 355, in <module>\n",
      "    from models.network_rvrt import RVRT as net\n",
      "  File \"/kaggle/working/RVRT/models/network_rvrt.py\", line 1177, in <module>\n",
      "    import torchvision\n",
      "  File \"/usr/local/lib/python3.10/dist-packages/torchvision/__init__.py\", line 10, in <module>\n",
      "    from torchvision import _meta_registrations, datasets, io, models, ops, transforms, utils  # usort:skip\n",
      "  File \"/usr/local/lib/python3.10/dist-packages/torchvision/_meta_registrations.py\", line 4, in <module>\n",
      "    import torch._custom_ops\n",
      "ModuleNotFoundError: No module named 'torch._custom_ops'\n"
     ]
    }
   ],
   "source": [
    "!python main_test_rvrt.py --task 001_RVRT_videosr_bi_REDS_30frames --folder_lq /kaggle/input/reds-vsr/REDS_val_LR/val/val_sharp_bicubic/X4/000 --tile 50 64 64 --tile_overlap 2 10 10 --num_workers 4 --save_result"
   ]
  },
  {
   "cell_type": "code",
   "execution_count": 50,
   "metadata": {
    "execution": {
     "iopub.execute_input": "2025-03-26T00:56:19.793270Z",
     "iopub.status.busy": "2025-03-26T00:56:19.792984Z",
     "iopub.status.idle": "2025-03-26T00:56:19.927159Z",
     "shell.execute_reply": "2025-03-26T00:56:19.926146Z",
     "shell.execute_reply.started": "2025-03-26T00:56:19.793236Z"
    },
    "id": "h8E3NmaNuzHT",
    "outputId": "6acad2c3-c408-4795-b5bb-0c35a5acfa54",
    "trusted": true
   },
   "outputs": [
    {
     "name": "stdout",
     "output_type": "stream",
     "text": [
      "\tzip warning: name not matched: /kaggle/working/RVRT/results/001_RVRT_videosr_bi_REDS_30frames/000\n",
      "\n",
      "zip error: Nothing to do! (try: zip -r images.zip . -i /kaggle/working/RVRT/results/001_RVRT_videosr_bi_REDS_30frames/000)\n"
     ]
    }
   ],
   "source": [
    "!zip -r images.zip /kaggle/working/RVRT/results/001_RVRT_videosr_bi_REDS_30frames/000"
   ]
  },
  {
   "cell_type": "code",
   "execution_count": 51,
   "metadata": {
    "colab": {
     "base_uri": "https://localhost:8080/"
    },
    "execution": {
     "iopub.execute_input": "2025-03-26T00:56:19.928779Z",
     "iopub.status.busy": "2025-03-26T00:56:19.928418Z",
     "iopub.status.idle": "2025-03-26T00:56:27.284518Z",
     "shell.execute_reply": "2025-03-26T00:56:27.283421Z",
     "shell.execute_reply.started": "2025-03-26T00:56:19.928744Z"
    },
    "id": "0K2ioSm4-aeV",
    "outputId": "d11c139e-7b8a-4720-e3aa-65ee207ded49",
    "trusted": true
   },
   "outputs": [
    {
     "name": "stdout",
     "output_type": "stream",
     "text": [
      "export CUDA_VISIBLE_DEVICES=0\n",
      "number of GPUs is: 1\n",
      "LogHandlers exist!\n",
      "Random seed: 3271\n",
      "Traceback (most recent call last):\n",
      "  File \"/kaggle/working/RVRT/main_train_vrt.py\", line 312, in <module>\n",
      "    main()\n",
      "  File \"/kaggle/working/RVRT/main_train_vrt.py\", line 119, in main\n",
      "    train_set = define_Dataset(dataset_opt)\n",
      "  File \"/kaggle/working/RVRT/data/select_dataset.py\", line 60, in define_Dataset\n",
      "    from data.dataset_video_train import VideoRecurrentTrainDataset as D\n",
      "  File \"/kaggle/working/RVRT/data/dataset_video_train.py\", line 6, in <module>\n",
      "    from torchvision import transforms\n",
      "  File \"/usr/local/lib/python3.10/dist-packages/torchvision/__init__.py\", line 10, in <module>\n",
      "    from torchvision import _meta_registrations, datasets, io, models, ops, transforms, utils  # usort:skip\n",
      "  File \"/usr/local/lib/python3.10/dist-packages/torchvision/_meta_registrations.py\", line 4, in <module>\n",
      "    import torch._custom_ops\n",
      "ModuleNotFoundError: No module named 'torch._custom_ops'\n",
      "Traceback (most recent call last):\n",
      "  File \"/usr/local/bin/torchrun\", line 8, in <module>\n",
      "    sys.exit(main())\n",
      "  File \"/usr/local/lib/python3.10/dist-packages/torch/distributed/elastic/multiprocessing/errors/__init__.py\", line 346, in wrapper\n",
      "    return f(*args, **kwargs)\n",
      "  File \"/usr/local/lib/python3.10/dist-packages/torch/distributed/run.py\", line 794, in main\n",
      "    run(args)\n",
      "  File \"/usr/local/lib/python3.10/dist-packages/torch/distributed/run.py\", line 785, in run\n",
      "    elastic_launch(\n",
      "  File \"/usr/local/lib/python3.10/dist-packages/torch/distributed/launcher/api.py\", line 134, in __call__\n",
      "    return launch_agent(self._config, self._entrypoint, list(args))\n",
      "  File \"/usr/local/lib/python3.10/dist-packages/torch/distributed/launcher/api.py\", line 250, in launch_agent\n",
      "    raise ChildFailedError(\n",
      "torch.distributed.elastic.multiprocessing.errors.ChildFailedError: \n",
      "============================================================\n",
      "main_train_vrt.py FAILED\n",
      "------------------------------------------------------------\n",
      "Failures:\n",
      "  <NO_OTHER_FAILURES>\n",
      "------------------------------------------------------------\n",
      "Root Cause (first observed failure):\n",
      "[0]:\n",
      "  time      : 2025-03-26_00:56:26\n",
      "  host      : fdbb75540852\n",
      "  rank      : 0 (local_rank: 0)\n",
      "  exitcode  : 1 (pid: 455)\n",
      "  error_file: <N/A>\n",
      "  traceback : To enable traceback see: https://pytorch.org/docs/stable/elastic/errors.html\n",
      "============================================================\n"
     ]
    }
   ],
   "source": [
    "!torchrun --nproc_per_node=1 --master_port=1234 main_train_vrt.py --opt options/rvrt/001_train_rvrt_videosr_bi_reds_30frames.json --dist True"
   ]
  },
  {
   "cell_type": "code",
   "execution_count": 52,
   "metadata": {
    "execution": {
     "iopub.execute_input": "2025-03-26T00:56:27.285951Z",
     "iopub.status.busy": "2025-03-26T00:56:27.285655Z",
     "iopub.status.idle": "2025-03-26T00:56:29.344328Z",
     "shell.execute_reply": "2025-03-26T00:56:29.343266Z",
     "shell.execute_reply.started": "2025-03-26T00:56:27.285928Z"
    },
    "trusted": true
   },
   "outputs": [
    {
     "name": "stdout",
     "output_type": "stream",
     "text": [
      "Traceback (most recent call last):\n",
      "  File \"/kaggle/working/RVRT/main_test_rvrt.py\", line 355, in <module>\n",
      "    from models.network_rvrt import RVRT as net\n",
      "  File \"/kaggle/working/RVRT/models/network_rvrt.py\", line 1177, in <module>\n",
      "    import torchvision\n",
      "  File \"/usr/local/lib/python3.10/dist-packages/torchvision/__init__.py\", line 10, in <module>\n",
      "    from torchvision import _meta_registrations, datasets, io, models, ops, transforms, utils  # usort:skip\n",
      "  File \"/usr/local/lib/python3.10/dist-packages/torchvision/_meta_registrations.py\", line 4, in <module>\n",
      "    import torch._custom_ops\n",
      "ModuleNotFoundError: No module named 'torch._custom_ops'\n"
     ]
    }
   ],
   "source": [
    "!python main_test_rvrt.py --task 001_RVRT_videosr_bi_REDS_30frames --folder_lq /kaggle/input/reds-vsr/REDS_val_LR/val/val_sharp_bicubic/X4 --folder_gt /kaggle/input/reds-vsr/REDS_val/val/val_sharp --tile 50 128 128 --tile_overlap 2 20 20"
   ]
  },
  {
   "cell_type": "markdown",
   "metadata": {
    "id": "W8wQisfmuzHT"
   },
   "source": [
    "# API"
   ]
  },
  {
   "cell_type": "code",
   "execution_count": 5,
   "metadata": {
    "colab": {
     "base_uri": "https://localhost:8080/"
    },
    "execution": {
     "iopub.execute_input": "2025-03-26T01:00:18.290847Z",
     "iopub.status.busy": "2025-03-26T01:00:18.290506Z",
     "iopub.status.idle": "2025-03-26T01:00:21.779819Z",
     "shell.execute_reply": "2025-03-26T01:00:21.778960Z",
     "shell.execute_reply.started": "2025-03-26T01:00:18.290819Z"
    },
    "id": "ZzURIoiuuzHT",
    "outputId": "9456fb0c-3bd8-452c-f9f8-5cacdf9d7b7a",
    "trusted": true
   },
   "outputs": [
    {
     "name": "stdout",
     "output_type": "stream",
     "text": [
      "Requirement already satisfied: flask in /usr/local/lib/python3.10/dist-packages (3.1.0)\n",
      "Collecting flask-ngrok\n",
      "  Downloading flask_ngrok-0.0.25-py3-none-any.whl.metadata (1.8 kB)\n",
      "Requirement already satisfied: opencv-python in /usr/local/lib/python3.10/dist-packages (4.10.0.84)\n",
      "Requirement already satisfied: Werkzeug>=3.1 in /usr/local/lib/python3.10/dist-packages (from flask) (3.1.3)\n",
      "Requirement already satisfied: Jinja2>=3.1.2 in /usr/local/lib/python3.10/dist-packages (from flask) (3.1.4)\n",
      "Requirement already satisfied: itsdangerous>=2.2 in /usr/local/lib/python3.10/dist-packages (from flask) (2.2.0)\n",
      "Requirement already satisfied: click>=8.1.3 in /usr/local/lib/python3.10/dist-packages (from flask) (8.1.7)\n",
      "Requirement already satisfied: blinker>=1.9 in /usr/local/lib/python3.10/dist-packages (from flask) (1.9.0)\n",
      "Requirement already satisfied: requests in /usr/local/lib/python3.10/dist-packages (from flask-ngrok) (2.32.3)\n",
      "Requirement already satisfied: numpy>=1.21.2 in /usr/local/lib/python3.10/dist-packages (from opencv-python) (1.26.4)\n",
      "Requirement already satisfied: MarkupSafe>=2.0 in /usr/local/lib/python3.10/dist-packages (from Jinja2>=3.1.2->flask) (3.0.2)\n",
      "Requirement already satisfied: mkl_fft in /usr/local/lib/python3.10/dist-packages (from numpy>=1.21.2->opencv-python) (1.3.8)\n",
      "Requirement already satisfied: mkl_random in /usr/local/lib/python3.10/dist-packages (from numpy>=1.21.2->opencv-python) (1.2.4)\n",
      "Requirement already satisfied: mkl_umath in /usr/local/lib/python3.10/dist-packages (from numpy>=1.21.2->opencv-python) (0.1.1)\n",
      "Requirement already satisfied: mkl in /usr/local/lib/python3.10/dist-packages (from numpy>=1.21.2->opencv-python) (2025.0.1)\n",
      "Requirement already satisfied: tbb4py in /usr/local/lib/python3.10/dist-packages (from numpy>=1.21.2->opencv-python) (2022.0.0)\n",
      "Requirement already satisfied: mkl-service in /usr/local/lib/python3.10/dist-packages (from numpy>=1.21.2->opencv-python) (2.4.1)\n",
      "Requirement already satisfied: charset-normalizer<4,>=2 in /usr/local/lib/python3.10/dist-packages (from requests->flask-ngrok) (3.4.1)\n",
      "Requirement already satisfied: idna<4,>=2.5 in /usr/local/lib/python3.10/dist-packages (from requests->flask-ngrok) (3.10)\n",
      "Requirement already satisfied: urllib3<3,>=1.21.1 in /usr/local/lib/python3.10/dist-packages (from requests->flask-ngrok) (2.3.0)\n",
      "Requirement already satisfied: certifi>=2017.4.17 in /usr/local/lib/python3.10/dist-packages (from requests->flask-ngrok) (2025.1.31)\n",
      "Requirement already satisfied: intel-openmp>=2024 in /usr/local/lib/python3.10/dist-packages (from mkl->numpy>=1.21.2->opencv-python) (2024.2.0)\n",
      "Requirement already satisfied: tbb==2022.* in /usr/local/lib/python3.10/dist-packages (from mkl->numpy>=1.21.2->opencv-python) (2022.0.0)\n",
      "Requirement already satisfied: tcmlib==1.* in /usr/local/lib/python3.10/dist-packages (from tbb==2022.*->mkl->numpy>=1.21.2->opencv-python) (1.2.0)\n",
      "Requirement already satisfied: intel-cmplr-lib-rt in /usr/local/lib/python3.10/dist-packages (from mkl_umath->numpy>=1.21.2->opencv-python) (2024.2.0)\n",
      "Requirement already satisfied: intel-cmplr-lib-ur==2024.2.0 in /usr/local/lib/python3.10/dist-packages (from intel-openmp>=2024->mkl->numpy>=1.21.2->opencv-python) (2024.2.0)\n",
      "Downloading flask_ngrok-0.0.25-py3-none-any.whl (3.1 kB)\n",
      "Installing collected packages: flask-ngrok\n",
      "Successfully installed flask-ngrok-0.0.25\n"
     ]
    }
   ],
   "source": [
    "!pip install flask flask-ngrok opencv-python"
   ]
  },
  {
   "cell_type": "code",
   "execution_count": 6,
   "metadata": {
    "execution": {
     "iopub.execute_input": "2025-03-26T01:00:24.029324Z",
     "iopub.status.busy": "2025-03-26T01:00:24.029003Z",
     "iopub.status.idle": "2025-03-26T01:00:25.885816Z",
     "shell.execute_reply": "2025-03-26T01:00:25.884745Z",
     "shell.execute_reply.started": "2025-03-26T01:00:24.029297Z"
    },
    "id": "J8zoRHvsuzHT",
    "trusted": true
   },
   "outputs": [],
   "source": [
    "!wget -q -O ngrok.zip https://bin.equinox.io/c/4VmDzA7iaHb/ngrok-stable-linux-amd64.zip\n",
    "!unzip -qq ngrok.zip"
   ]
  },
  {
   "cell_type": "code",
   "execution_count": 7,
   "metadata": {
    "colab": {
     "base_uri": "https://localhost:8080/"
    },
    "execution": {
     "iopub.execute_input": "2025-03-26T01:00:29.952197Z",
     "iopub.status.busy": "2025-03-26T01:00:29.951862Z",
     "iopub.status.idle": "2025-03-26T01:00:33.497494Z",
     "shell.execute_reply": "2025-03-26T01:00:33.496358Z",
     "shell.execute_reply.started": "2025-03-26T01:00:29.952168Z"
    },
    "id": "VTM0d8ImznBS",
    "outputId": "f338e9f7-45ca-4c01-da09-12236dfa07a4",
    "trusted": true
   },
   "outputs": [
    {
     "name": "stdout",
     "output_type": "stream",
     "text": [
      "Collecting pyngrok\n",
      "  Downloading pyngrok-7.2.3-py3-none-any.whl.metadata (8.7 kB)\n",
      "Requirement already satisfied: PyYAML>=5.1 in /usr/local/lib/python3.10/dist-packages (from pyngrok) (6.0.2)\n",
      "Downloading pyngrok-7.2.3-py3-none-any.whl (23 kB)\n",
      "Installing collected packages: pyngrok\n",
      "Successfully installed pyngrok-7.2.3\n"
     ]
    }
   ],
   "source": [
    "!pip install pyngrok"
   ]
  },
  {
   "cell_type": "code",
   "execution_count": 8,
   "metadata": {
    "colab": {
     "base_uri": "https://localhost:8080/"
    },
    "execution": {
     "iopub.execute_input": "2025-03-26T01:00:35.445011Z",
     "iopub.status.busy": "2025-03-26T01:00:35.444715Z",
     "iopub.status.idle": "2025-03-26T01:00:38.929259Z",
     "shell.execute_reply": "2025-03-26T01:00:38.928275Z",
     "shell.execute_reply.started": "2025-03-26T01:00:35.444988Z"
    },
    "id": "VTM0d8ImznBS",
    "outputId": "f338e9f7-45ca-4c01-da09-12236dfa07a4",
    "trusted": true
   },
   "outputs": [
    {
     "name": "stdout",
     "output_type": "stream",
     "text": [
      "Collecting flask-cors\n",
      "  Downloading flask_cors-5.0.1-py3-none-any.whl.metadata (961 bytes)\n",
      "Requirement already satisfied: flask>=0.9 in /usr/local/lib/python3.10/dist-packages (from flask-cors) (3.1.0)\n",
      "Requirement already satisfied: Werkzeug>=0.7 in /usr/local/lib/python3.10/dist-packages (from flask-cors) (3.1.3)\n",
      "Requirement already satisfied: Jinja2>=3.1.2 in /usr/local/lib/python3.10/dist-packages (from flask>=0.9->flask-cors) (3.1.4)\n",
      "Requirement already satisfied: itsdangerous>=2.2 in /usr/local/lib/python3.10/dist-packages (from flask>=0.9->flask-cors) (2.2.0)\n",
      "Requirement already satisfied: click>=8.1.3 in /usr/local/lib/python3.10/dist-packages (from flask>=0.9->flask-cors) (8.1.7)\n",
      "Requirement already satisfied: blinker>=1.9 in /usr/local/lib/python3.10/dist-packages (from flask>=0.9->flask-cors) (1.9.0)\n",
      "Requirement already satisfied: MarkupSafe>=2.1.1 in /usr/local/lib/python3.10/dist-packages (from Werkzeug>=0.7->flask-cors) (3.0.2)\n",
      "Downloading flask_cors-5.0.1-py3-none-any.whl (11 kB)\n",
      "Installing collected packages: flask-cors\n",
      "Successfully installed flask-cors-5.0.1\n"
     ]
    }
   ],
   "source": [
    "!pip install flask-cors"
   ]
  },
  {
   "cell_type": "code",
   "execution_count": 16,
   "metadata": {
    "execution": {
     "iopub.execute_input": "2025-03-26T01:11:07.269614Z",
     "iopub.status.busy": "2025-03-26T01:11:07.269274Z",
     "iopub.status.idle": "2025-03-26T01:11:22.611700Z",
     "shell.execute_reply": "2025-03-26T01:11:22.610569Z",
     "shell.execute_reply.started": "2025-03-26T01:11:07.269586Z"
    },
    "trusted": true
   },
   "outputs": [
    {
     "name": "stdout",
     "output_type": "stream",
     "text": [
      "Collecting demucs\n",
      "  Downloading demucs-4.0.1.tar.gz (1.2 MB)\n",
      "\u001b[2K     \u001b[90m━━━━━━━━━━━━━━━━━━━━━━━━━━━━━━━━━━━━━━━━\u001b[0m \u001b[32m1.2/1.2 MB\u001b[0m \u001b[31m21.1 MB/s\u001b[0m eta \u001b[36m0:00:00\u001b[0ma \u001b[36m0:00:01\u001b[0m\n",
      "\u001b[?25h  Preparing metadata (setup.py) ... \u001b[?25l\u001b[?25hdone\n",
      "Collecting dora-search (from demucs)\n",
      "  Downloading dora_search-0.1.12.tar.gz (87 kB)\n",
      "\u001b[2K     \u001b[90m━━━━━━━━━━━━━━━━━━━━━━━━━━━━━━━━━━━━━━━━\u001b[0m \u001b[32m87.1/87.1 kB\u001b[0m \u001b[31m5.8 MB/s\u001b[0m eta \u001b[36m0:00:00\u001b[0m\n",
      "\u001b[?25h  Installing build dependencies ... \u001b[?25l\u001b[?25hdone\n",
      "  Getting requirements to build wheel ... \u001b[?25l\u001b[?25hdone\n",
      "  Preparing metadata (pyproject.toml) ... \u001b[?25l\u001b[?25hdone\n",
      "Requirement already satisfied: einops in /usr/local/lib/python3.10/dist-packages (from demucs) (0.8.0)\n",
      "Collecting julius>=0.2.3 (from demucs)\n",
      "  Downloading julius-0.2.7.tar.gz (59 kB)\n",
      "\u001b[2K     \u001b[90m━━━━━━━━━━━━━━━━━━━━━━━━━━━━━━━━━━━━━━━━\u001b[0m \u001b[32m59.6/59.6 kB\u001b[0m \u001b[31m3.6 MB/s\u001b[0m eta \u001b[36m0:00:00\u001b[0m\n",
      "\u001b[?25h  Preparing metadata (setup.py) ... \u001b[?25l\u001b[?25hdone\n",
      "Collecting lameenc>=1.2 (from demucs)\n",
      "  Downloading lameenc-1.8.1-cp310-cp310-manylinux_2_17_x86_64.manylinux2014_x86_64.manylinux_2_28_x86_64.whl.metadata (9.9 kB)\n",
      "Collecting openunmix (from demucs)\n",
      "  Downloading openunmix-1.3.0-py3-none-any.whl.metadata (17 kB)\n",
      "Requirement already satisfied: pyyaml in /usr/local/lib/python3.10/dist-packages (from demucs) (6.0.2)\n",
      "Requirement already satisfied: torch>=1.8.1 in /usr/local/lib/python3.10/dist-packages (from demucs) (2.5.1+cu121)\n",
      "Requirement already satisfied: torchaudio>=0.8 in /usr/local/lib/python3.10/dist-packages (from demucs) (2.5.1+cu121)\n",
      "Requirement already satisfied: tqdm in /usr/local/lib/python3.10/dist-packages (from demucs) (4.67.1)\n",
      "Requirement already satisfied: filelock in /usr/local/lib/python3.10/dist-packages (from torch>=1.8.1->demucs) (3.17.0)\n",
      "Requirement already satisfied: typing-extensions>=4.8.0 in /usr/local/lib/python3.10/dist-packages (from torch>=1.8.1->demucs) (4.12.2)\n",
      "Requirement already satisfied: networkx in /usr/local/lib/python3.10/dist-packages (from torch>=1.8.1->demucs) (3.4.2)\n",
      "Requirement already satisfied: jinja2 in /usr/local/lib/python3.10/dist-packages (from torch>=1.8.1->demucs) (3.1.4)\n",
      "Requirement already satisfied: fsspec in /usr/local/lib/python3.10/dist-packages (from torch>=1.8.1->demucs) (2024.12.0)\n",
      "Requirement already satisfied: sympy==1.13.1 in /usr/local/lib/python3.10/dist-packages (from torch>=1.8.1->demucs) (1.13.1)\n",
      "Requirement already satisfied: mpmath<1.4,>=1.1.0 in /usr/local/lib/python3.10/dist-packages (from sympy==1.13.1->torch>=1.8.1->demucs) (1.3.0)\n",
      "Requirement already satisfied: omegaconf in /usr/local/lib/python3.10/dist-packages (from dora-search->demucs) (2.3.0)\n",
      "Collecting retrying (from dora-search->demucs)\n",
      "  Downloading retrying-1.3.4-py3-none-any.whl.metadata (6.9 kB)\n",
      "Collecting submitit (from dora-search->demucs)\n",
      "  Downloading submitit-1.5.2-py3-none-any.whl.metadata (7.9 kB)\n",
      "Collecting treetable (from dora-search->demucs)\n",
      "  Downloading treetable-0.2.5.tar.gz (10 kB)\n",
      "  Preparing metadata (setup.py) ... \u001b[?25l\u001b[?25hdone\n",
      "Requirement already satisfied: numpy in /usr/local/lib/python3.10/dist-packages (from openunmix->demucs) (1.26.4)\n",
      "Requirement already satisfied: MarkupSafe>=2.0 in /usr/local/lib/python3.10/dist-packages (from jinja2->torch>=1.8.1->demucs) (3.0.2)\n",
      "Requirement already satisfied: mkl_fft in /usr/local/lib/python3.10/dist-packages (from numpy->openunmix->demucs) (1.3.8)\n",
      "Requirement already satisfied: mkl_random in /usr/local/lib/python3.10/dist-packages (from numpy->openunmix->demucs) (1.2.4)\n",
      "Requirement already satisfied: mkl_umath in /usr/local/lib/python3.10/dist-packages (from numpy->openunmix->demucs) (0.1.1)\n",
      "Requirement already satisfied: mkl in /usr/local/lib/python3.10/dist-packages (from numpy->openunmix->demucs) (2025.0.1)\n",
      "Requirement already satisfied: tbb4py in /usr/local/lib/python3.10/dist-packages (from numpy->openunmix->demucs) (2022.0.0)\n",
      "Requirement already satisfied: mkl-service in /usr/local/lib/python3.10/dist-packages (from numpy->openunmix->demucs) (2.4.1)\n",
      "Requirement already satisfied: antlr4-python3-runtime==4.9.* in /usr/local/lib/python3.10/dist-packages (from omegaconf->dora-search->demucs) (4.9.3)\n",
      "Requirement already satisfied: six>=1.7.0 in /usr/local/lib/python3.10/dist-packages (from retrying->dora-search->demucs) (1.17.0)\n",
      "Requirement already satisfied: cloudpickle>=1.2.1 in /usr/local/lib/python3.10/dist-packages (from submitit->dora-search->demucs) (3.1.0)\n",
      "Requirement already satisfied: intel-openmp>=2024 in /usr/local/lib/python3.10/dist-packages (from mkl->numpy->openunmix->demucs) (2024.2.0)\n",
      "Requirement already satisfied: tbb==2022.* in /usr/local/lib/python3.10/dist-packages (from mkl->numpy->openunmix->demucs) (2022.0.0)\n",
      "Requirement already satisfied: tcmlib==1.* in /usr/local/lib/python3.10/dist-packages (from tbb==2022.*->mkl->numpy->openunmix->demucs) (1.2.0)\n",
      "Requirement already satisfied: intel-cmplr-lib-rt in /usr/local/lib/python3.10/dist-packages (from mkl_umath->numpy->openunmix->demucs) (2024.2.0)\n",
      "Requirement already satisfied: intel-cmplr-lib-ur==2024.2.0 in /usr/local/lib/python3.10/dist-packages (from intel-openmp>=2024->mkl->numpy->openunmix->demucs) (2024.2.0)\n",
      "Downloading lameenc-1.8.1-cp310-cp310-manylinux_2_17_x86_64.manylinux2014_x86_64.manylinux_2_28_x86_64.whl (248 kB)\n",
      "\u001b[2K   \u001b[90m━━━━━━━━━━━━━━━━━━━━━━━━━━━━━━━━━━━━━━━━\u001b[0m \u001b[32m248.9/248.9 kB\u001b[0m \u001b[31m15.1 MB/s\u001b[0m eta \u001b[36m0:00:00\u001b[0m\n",
      "\u001b[?25hDownloading openunmix-1.3.0-py3-none-any.whl (40 kB)\n",
      "\u001b[2K   \u001b[90m━━━━━━━━━━━━━━━━━━━━━━━━━━━━━━━━━━━━━━━━\u001b[0m \u001b[32m40.0/40.0 kB\u001b[0m \u001b[31m1.9 MB/s\u001b[0m eta \u001b[36m0:00:00\u001b[0m\n",
      "\u001b[?25hDownloading retrying-1.3.4-py3-none-any.whl (11 kB)\n",
      "Downloading submitit-1.5.2-py3-none-any.whl (74 kB)\n",
      "\u001b[2K   \u001b[90m━━━━━━━━━━━━━━━━━━━━━━━━━━━━━━━━━━━━━━━━\u001b[0m \u001b[32m74.9/74.9 kB\u001b[0m \u001b[31m4.7 MB/s\u001b[0m eta \u001b[36m0:00:00\u001b[0m\n",
      "\u001b[?25hBuilding wheels for collected packages: demucs, julius, dora-search, treetable\n",
      "  Building wheel for demucs (setup.py) ... \u001b[?25l\u001b[?25hdone\n",
      "  Created wheel for demucs: filename=demucs-4.0.1-py3-none-any.whl size=78388 sha256=2ed214f5c37368c6f388192f8432fc4298606b3eb6da42adb12963313244f9ae\n",
      "  Stored in directory: /root/.cache/pip/wheels/2a/65/a1/6cc0e525a84375af3b09823b3326b0ece53c4e68302c054548\n",
      "  Building wheel for julius (setup.py) ... \u001b[?25l\u001b[?25hdone\n",
      "  Created wheel for julius: filename=julius-0.2.7-py3-none-any.whl size=21869 sha256=c166dcce5e70887a5a81d2e18791f7d1ccf6e8326f150344f92a6188b51e3bae\n",
      "  Stored in directory: /root/.cache/pip/wheels/b9/b2/05/f883527ffcb7f2ead5438a2c23439aa0c881eaa9a4c80256f4\n",
      "  Building wheel for dora-search (pyproject.toml) ... \u001b[?25l\u001b[?25hdone\n",
      "  Created wheel for dora-search: filename=dora_search-0.1.12-py3-none-any.whl size=75195 sha256=5484d2918ab60e4159d6ae7600524f9ffd1389b8f41b24cd3938d498ba646aac\n",
      "  Stored in directory: /root/.cache/pip/wheels/b1/c2/c0/bea5cc405497284d584b958f293ef32c23bad42ae5e44d973c\n",
      "  Building wheel for treetable (setup.py) ... \u001b[?25l\u001b[?25hdone\n",
      "  Created wheel for treetable: filename=treetable-0.2.5-py3-none-any.whl size=7334 sha256=cf858dc1af67885354d3bab0c8b69722d8fd8b747223685e4a08714b7a51bb0d\n",
      "  Stored in directory: /root/.cache/pip/wheels/72/55/0e/91c3655bdb162446f8a7cd477579397544454a63ae7c599c0c\n",
      "Successfully built demucs julius dora-search treetable\n",
      "Installing collected packages: lameenc, treetable, submitit, retrying, julius, dora-search, openunmix, demucs\n",
      "Successfully installed demucs-4.0.1 dora-search-0.1.12 julius-0.2.7 lameenc-1.8.1 openunmix-1.3.0 retrying-1.3.4 submitit-1.5.2 treetable-0.2.5\n"
     ]
    }
   ],
   "source": [
    "!pip install demucs"
   ]
  },
  {
   "cell_type": "code",
   "execution_count": null,
   "metadata": {
    "colab": {
     "base_uri": "https://localhost:8080/"
    },
    "execution": {
     "iopub.execute_input": "2025-03-26T01:00:41.081053Z",
     "iopub.status.busy": "2025-03-26T01:00:41.080690Z",
     "iopub.status.idle": "2025-03-26T01:00:41.216827Z",
     "shell.execute_reply": "2025-03-26T01:00:41.216047Z",
     "shell.execute_reply.started": "2025-03-26T01:00:41.081024Z"
    },
    "id": "Z5y-1Ummzqo9",
    "outputId": "55d597f5-43df-464a-c391-e9e461e4b5b4",
    "trusted": true
   },
   "outputs": [
    {
     "name": "stdout",
     "output_type": "stream",
     "text": [
      "Authtoken saved to configuration file: /root/.ngrok2/ngrok.yml\n"
     ]
    }
   ],
   "source": [
    "!./ngrok authtoken Token"
   ]
  },
  {
   "cell_type": "code",
   "execution_count": 24,
   "metadata": {
    "execution": {
     "iopub.execute_input": "2025-03-26T01:33:53.370002Z",
     "iopub.status.busy": "2025-03-26T01:33:53.369682Z",
     "iopub.status.idle": "2025-03-26T01:33:53.375697Z",
     "shell.execute_reply": "2025-03-26T01:33:53.374734Z",
     "shell.execute_reply.started": "2025-03-26T01:33:53.369979Z"
    },
    "id": "dhCh-4Z8uzHT",
    "trusted": true
   },
   "outputs": [],
   "source": [
    "from flask import Flask, request, jsonify, send_file\n",
    "from flask_ngrok import run_with_ngrok\n",
    "import cv2\n",
    "import os\n",
    "import tempfile\n",
    "import subprocess\n",
    "from flask_cors import CORS\n",
    "\n",
    "app = Flask(__name__)\n",
    "app.config['MAX_CONTENT_LENGTH'] = 1000 * 1024 * 1024  # 50 MB limit\n",
    "CORS(app)\n",
    "run_with_ngrok(app)  # Expose the app via a public URL"
   ]
  },
  {
   "cell_type": "code",
   "execution_count": 25,
   "metadata": {
    "execution": {
     "iopub.execute_input": "2025-03-26T01:33:54.162830Z",
     "iopub.status.busy": "2025-03-26T01:33:54.162523Z",
     "iopub.status.idle": "2025-03-26T01:33:54.167526Z",
     "shell.execute_reply": "2025-03-26T01:33:54.166742Z",
     "shell.execute_reply.started": "2025-03-26T01:33:54.162806Z"
    },
    "id": "of0TT10juzHT",
    "trusted": true
   },
   "outputs": [],
   "source": [
    "import os\n",
    "import cv2\n",
    "\n",
    "def extract_frames(video_path, frames_dir):\n",
    "    # Create a subfolder \"000\" inside the frames_dir\n",
    "    subfolder = os.path.join(frames_dir, \"000\")\n",
    "    os.makedirs(subfolder, exist_ok=True)\n",
    "\n",
    "    cap = cv2.VideoCapture(video_path)\n",
    "    frame_count = 0\n",
    "    while True:\n",
    "        ret, frame = cap.read()\n",
    "        if not ret:\n",
    "            break\n",
    "        # Save each frame with 8-digit formatting, e.g., \"00000000.png\"\n",
    "        frame_filename = os.path.join(subfolder, f\"{frame_count:08d}.png\")\n",
    "        cv2.imwrite(frame_filename, frame)\n",
    "        frame_count += 1\n",
    "    cap.release()\n",
    "    return frame_count"
   ]
  },
  {
   "cell_type": "code",
   "execution_count": 26,
   "metadata": {
    "execution": {
     "iopub.execute_input": "2025-03-26T01:33:56.424505Z",
     "iopub.status.busy": "2025-03-26T01:33:56.424202Z",
     "iopub.status.idle": "2025-03-26T01:33:56.429815Z",
     "shell.execute_reply": "2025-03-26T01:33:56.428913Z",
     "shell.execute_reply.started": "2025-03-26T01:33:56.424480Z"
    },
    "id": "92zrpgoYuzHT",
    "trusted": true
   },
   "outputs": [],
   "source": [
    "def assemble_video(frames_dir, output_video_path, fps=30):\n",
    "    frame_files = sorted(\n",
    "        [os.path.join(frames_dir, f) for f in os.listdir(frames_dir)\n",
    "         if f.endswith('.png') or f.endswith('.jpg')]\n",
    "    )\n",
    "    if not frame_files:\n",
    "        raise ValueError(\"No frames found in the directory.\")\n",
    "\n",
    "    first_frame = cv2.imread(frame_files[0])\n",
    "    height, width, _ = first_frame.shape\n",
    "    fourcc = cv2.VideoWriter_fourcc(*'mp4v')\n",
    "    out = cv2.VideoWriter(output_video_path, fourcc, fps, (width, height))\n",
    "\n",
    "    for frame_file in frame_files:\n",
    "        frame = cv2.imread(frame_file)\n",
    "        out.write(frame)\n",
    "    out.release()"
   ]
  },
  {
   "cell_type": "code",
   "execution_count": 61,
   "metadata": {
    "execution": {
     "iopub.execute_input": "2025-03-26T00:56:41.576047Z",
     "iopub.status.busy": "2025-03-26T00:56:41.575767Z",
     "iopub.status.idle": "2025-03-26T00:56:41.589870Z",
     "shell.execute_reply": "2025-03-26T00:56:41.589087Z",
     "shell.execute_reply.started": "2025-03-26T00:56:41.576017Z"
    },
    "id": "AtQiIaveuzHT",
    "trusted": true
   },
   "outputs": [],
   "source": [
    "# import os\n",
    "\n",
    "# @app.route('/process_video', methods=['POST'])\n",
    "# def process_video():\n",
    "#     print(\"Configured MAX_CONTENT_LENGTH:\", app.config['MAX_CONTENT_LENGTH'])\n",
    "#     print(\"Request Content-Length:\", request.content_length)\n",
    "#     print(\"1\")\n",
    "#     # 1. Receive and save the uploaded video\n",
    "#     file = request.files.get('video')\n",
    "#     print(\"11\")\n",
    "#     if not file:\n",
    "#         return jsonify({'error': 'No video file uploaded'}), 400\n",
    "#     video_path = tempfile.mktemp(suffix='.mp4')\n",
    "#     print(\"111\")\n",
    "#     file.save(video_path)\n",
    "#     print(\"222\")\n",
    "#     # 2. Create a temporary folder to store extracted frames\n",
    "#     input_frames_dir = tempfile.mkdtemp(prefix=\"input_frames_\")\n",
    "#     extract_frames(video_path, input_frames_dir)\n",
    "#     print(\"333\")\n",
    "#     # 3. Call the RVRT upscaling command using subprocess\n",
    "#     upscale_command = [\n",
    "#         \"python\", \"main_test_rvrt.py\",\n",
    "#         \"--task\", \"001_RVRT_videosr_bi_REDS_30frames\",\n",
    "#         \"--folder_lq\", input_frames_dir,\n",
    "#         \"--tile\", \"50\", \"64\", \"64\",\n",
    "#         \"--tile_overlap\", \"2\", \"10\", \"10\",\n",
    "#         \"--num_workers\", \"4\",\n",
    "#         \"--save_result\"\n",
    "#     ]\n",
    "#     subprocess.run(upscale_command, check=True)\n",
    "#     print(\"444\")\n",
    "#     # 4. Define the output folder where the upscaled images were saved.\n",
    "#     output_frames_dir = \"/kaggle/working/RVRT/results/001_RVRT_videosr_bi_REDS_30frames/000\"\n",
    "#     print(\"55\")\n",
    "#     # 5. Specify the upscaled video path in /kaggle/working\n",
    "#     upscaled_video_path = os.path.join(\"/kaggle/working\", \"upscaled_video.mp4\")\n",
    "#     # Remove the file if it already exists to avoid conflicts\n",
    "#     if os.path.exists(upscaled_video_path):\n",
    "#         os.remove(upscaled_video_path)\n",
    "#     print(\"555\")\n",
    "#     # Assemble the upscaled frames into a video at the specified path\n",
    "#     assemble_video(output_frames_dir, upscaled_video_path)\n",
    "#     print(\"666\")\n",
    "#     # Verify that the video file exists and is non-empty\n",
    "#     if not os.path.exists(upscaled_video_path) or os.path.getsize(upscaled_video_path) == 0:\n",
    "#         return jsonify({'error': 'Upscaled video not created or is empty'}), 500\n",
    "#     # 6. Return the upscaled video file to the user\n",
    "#     try:\n",
    "#         return send_file(upscaled_video_path, as_attachment=True)\n",
    "#     except Exception as e:\n",
    "#         print(\"Error in sending file:\", e)\n",
    "#         return jsonify({'error': str(e)}), 500\n"
   ]
  },
  {
   "cell_type": "code",
   "execution_count": 20,
   "metadata": {
    "execution": {
     "iopub.execute_input": "2025-03-26T01:11:48.420314Z",
     "iopub.status.busy": "2025-03-26T01:11:48.420040Z",
     "iopub.status.idle": "2025-03-26T01:11:48.431170Z",
     "shell.execute_reply": "2025-03-26T01:11:48.430151Z",
     "shell.execute_reply.started": "2025-03-26T01:11:48.420294Z"
    },
    "trusted": true
   },
   "outputs": [],
   "source": [
    "# # With audio\n",
    "\n",
    "# import os\n",
    "# import tempfile\n",
    "# import subprocess\n",
    "# from flask import request, jsonify, send_file\n",
    "\n",
    "# @app.route('/process_video', methods=['POST'])\n",
    "# def process_video():\n",
    "#     print('111')\n",
    "#     # 1. Receive and save the uploaded video\n",
    "#     file = request.files.get('video')\n",
    "#     if not file:\n",
    "#         return jsonify({'error': 'No video file uploaded'}), 400\n",
    "#     video_path = tempfile.mktemp(suffix='.mp4')\n",
    "#     file.save(video_path)\n",
    "#     print('222')\n",
    "#     # 2. Extract audio from the video using ffmpeg\n",
    "#     extracted_audio_path = tempfile.mktemp(suffix='.wav')\n",
    "#     extract_audio_cmd = [\n",
    "#         \"ffmpeg\", \"-i\", video_path,\n",
    "#         \"-q:a\", \"0\",  # high-quality audio extraction\n",
    "#         \"-map\", \"a\",  # select audio stream(s)\n",
    "#         extracted_audio_path\n",
    "#     ]\n",
    "#     subprocess.run(extract_audio_cmd, check=True)\n",
    "#     print('333')\n",
    "#     # 3. Create a temporary folder to store extracted frames and upscale video\n",
    "#     input_frames_dir = tempfile.mkdtemp(prefix=\"input_frames_\")\n",
    "#     extract_frames(video_path, input_frames_dir)  # your function to extract frames\n",
    "#     print('3331')\n",
    "#     upscale_command = [\n",
    "#         \"python\", \"main_test_rvrt.py\",\n",
    "#         \"--task\", \"001_RVRT_videosr_bi_REDS_30frames\",\n",
    "#         \"--folder_lq\", input_frames_dir,\n",
    "#         \"--tile\", \"50\", \"64\", \"64\",\n",
    "#         \"--tile_overlap\", \"2\", \"10\", \"10\",\n",
    "#         \"--num_workers\", \"4\",\n",
    "#         \"--save_result\"\n",
    "#     ]\n",
    "#     subprocess.run(upscale_command, check=True)\n",
    "#     print('3332')\n",
    "#     output_frames_dir = \"/kaggle/working/RVRT/results/001_RVRT_videosr_bi_REDS_30frames/000\"\n",
    "#     upscaled_video_path = os.path.join(\"/kaggle/working\", \"upscaled_video.mp4\")\n",
    "#     print('3333')\n",
    "#     if os.path.exists(upscaled_video_path):\n",
    "#         os.remove(upscaled_video_path)\n",
    "#         print('3334')\n",
    "#     assemble_video(output_frames_dir, upscaled_video_path)  # your function to reassemble video\n",
    "#     print('3335')\n",
    "#     if not os.path.exists(upscaled_video_path) or os.path.getsize(upscaled_video_path) == 0:\n",
    "#         return jsonify({'error': 'Upscaled video not created or is empty'}), 500\n",
    "#     print('444')\n",
    "#     # 4. Enhance the extracted audio using Demucs\n",
    "#     # Define an output folder for enhanced audio\n",
    "#     enhanced_audio_output_folder = \"/kaggle/working/enhanced_audio\"\n",
    "#     os.makedirs(enhanced_audio_output_folder, exist_ok=True)\n",
    "    \n",
    "#     demucs_cmd = [\n",
    "#         \"python3\", \"-m\", \"demucs.separate\",\n",
    "#         \"-n\", \"htdemucs\",\n",
    "#         \"--out\", enhanced_audio_output_folder,\n",
    "#         \"--mp3\", extracted_audio_path  # using the extracted audio as input\n",
    "#     ]\n",
    "#     subprocess.run(demucs_cmd, check=True)\n",
    "#     print('555')\n",
    "#     # Locate the enhanced audio file.\n",
    "#     # This assumes Demucs outputs a folder structure with the same base name converted to mp3.\n",
    "#     base_audio = os.path.splitext(os.path.basename(extracted_audio_path))[0] + \".mp3\"\n",
    "#     print('666')\n",
    "#     # Adjust this path if Demucs outputs the enhanced file to a different subfolder.\n",
    "#     enhanced_audio_path = os.path.join(enhanced_audio_output_folder, \"htdemucs\", base_audio)\n",
    "#     print('777')\n",
    "#     if not os.path.exists(enhanced_audio_path):\n",
    "#         return jsonify({'error': 'Enhanced audio not found'}), 500\n",
    "\n",
    "#     # 5. Combine the upscaled video and enhanced audio into a final video file\n",
    "#     final_video_path = os.path.join(\"/kaggle/working\", \"final_video.mp4\")\n",
    "#     if os.path.exists(final_video_path):\n",
    "#         os.remove(final_video_path)\n",
    "#     combine_cmd = [\n",
    "#         \"ffmpeg\", \"-i\", upscaled_video_path,\n",
    "#         \"-i\", enhanced_audio_path,\n",
    "#         \"-c:v\", \"copy\",  # copy the video stream as-is\n",
    "#         \"-c:a\", \"aac\",   # re-encode audio to AAC\n",
    "#         \"-strict\", \"experimental\",\n",
    "#         final_video_path\n",
    "#     ]\n",
    "#     subprocess.run(combine_cmd, check=True)\n",
    "#     print('999')\n",
    "#     if not os.path.exists(final_video_path) or os.path.getsize(final_video_path) == 0:\n",
    "#         return jsonify({'error': 'Final video not created or is empty'}), 500\n",
    "\n",
    "#     # 6. Return the final video file to the user\n",
    "#     try:\n",
    "#         return send_file(final_video_path, as_attachment=True)\n",
    "#     except Exception as e:\n",
    "#         return jsonify({'error': str(e)}), 500\n"
   ]
  },
  {
   "cell_type": "code",
   "execution_count": 27,
   "metadata": {
    "execution": {
     "iopub.execute_input": "2025-03-26T01:34:03.873901Z",
     "iopub.status.busy": "2025-03-26T01:34:03.873600Z",
     "iopub.status.idle": "2025-03-26T01:34:03.885183Z",
     "shell.execute_reply": "2025-03-26T01:34:03.884415Z",
     "shell.execute_reply.started": "2025-03-26T01:34:03.873878Z"
    },
    "trusted": true
   },
   "outputs": [],
   "source": [
    "import os\n",
    "import tempfile\n",
    "import subprocess\n",
    "import glob\n",
    "from flask import request, jsonify, send_file\n",
    "\n",
    "@app.route('/process_video', methods=['POST'])\n",
    "def process_video():\n",
    "    print('111')\n",
    "    # 1. Receive and save the uploaded video\n",
    "    file = request.files.get('video')\n",
    "    if not file:\n",
    "        return jsonify({'error': 'No video file uploaded'}), 400\n",
    "    video_path = tempfile.mktemp(suffix='.mp4')\n",
    "    file.save(video_path)\n",
    "    print('222')\n",
    "    # 2. Extract audio from the video using ffmpeg\n",
    "    extracted_audio_path = tempfile.mktemp(suffix='.wav')\n",
    "    extract_audio_cmd = [\n",
    "        \"ffmpeg\", \"-i\", video_path,\n",
    "        \"-q:a\", \"0\",  # high-quality audio extraction\n",
    "        \"-map\", \"a\",  # select audio stream(s)\n",
    "        extracted_audio_path\n",
    "    ]\n",
    "    subprocess.run(extract_audio_cmd, check=True)\n",
    "    print('333')\n",
    "    # 3. Create a temporary folder to store extracted frames and upscale video\n",
    "    input_frames_dir = tempfile.mkdtemp(prefix=\"input_frames_\")\n",
    "    extract_frames(video_path, input_frames_dir)  # your function to extract frames\n",
    "    print('3331')\n",
    "    upscale_command = [\n",
    "        \"python\", \"main_test_rvrt.py\",\n",
    "        \"--task\", \"001_RVRT_videosr_bi_REDS_30frames\",\n",
    "        \"--folder_lq\", input_frames_dir,\n",
    "        \"--tile\", \"50\", \"64\", \"64\",\n",
    "        \"--tile_overlap\", \"2\", \"10\", \"10\",\n",
    "        \"--num_workers\", \"4\",\n",
    "        \"--save_result\"\n",
    "    ]\n",
    "    subprocess.run(upscale_command, check=True)\n",
    "    print('3332')\n",
    "    output_frames_dir = \"/kaggle/working/RVRT/results/001_RVRT_videosr_bi_REDS_30frames/000\"\n",
    "    upscaled_video_path = os.path.join(\"/kaggle/working\", \"upscaled_video.mp4\")\n",
    "    print('3333')\n",
    "    if os.path.exists(upscaled_video_path):\n",
    "        os.remove(upscaled_video_path)\n",
    "        print('3334')\n",
    "    assemble_video(output_frames_dir, upscaled_video_path)  # your function to reassemble video\n",
    "    print('3335')\n",
    "    if not os.path.exists(upscaled_video_path) or os.path.getsize(upscaled_video_path) == 0:\n",
    "        return jsonify({'error': 'Upscaled video not created or is empty'}), 500\n",
    "    print('444')\n",
    "    # 4. Enhance the extracted audio using Demucs\n",
    "    enhanced_audio_output_folder = \"/kaggle/working/enhanced_audio\"\n",
    "    os.makedirs(enhanced_audio_output_folder, exist_ok=True)\n",
    "    \n",
    "    demucs_cmd = [\n",
    "        \"python3\", \"-m\", \"demucs.separate\",\n",
    "        \"-n\", \"htdemucs\",\n",
    "        \"--out\", enhanced_audio_output_folder,\n",
    "        \"--mp3\", extracted_audio_path  # using the extracted audio as input\n",
    "    ]\n",
    "    subprocess.run(demucs_cmd, check=True)\n",
    "    print('555')\n",
    "    # Locate the enhanced audio file by searching for vocals.mp3 in the folder structure\n",
    "    search_pattern = os.path.join(enhanced_audio_output_folder, \"htdemucs\", \"*\", \"vocals.mp3\")\n",
    "    matching_files = glob.glob(search_pattern)\n",
    "    if not matching_files:\n",
    "        return jsonify({'error': 'Enhanced audio not found'}), 500\n",
    "    enhanced_audio_path = matching_files[0]\n",
    "    print('Found enhanced audio at:', enhanced_audio_path)\n",
    "    print('666')\n",
    "    # 5. Combine the upscaled video and enhanced audio into a final video file\n",
    "    final_video_path = os.path.join(\"/kaggle/working\", \"final_video.mp4\")\n",
    "    if os.path.exists(final_video_path):\n",
    "        os.remove(final_video_path)\n",
    "    combine_cmd = [\n",
    "        \"ffmpeg\", \"-i\", upscaled_video_path,\n",
    "        \"-i\", enhanced_audio_path,\n",
    "        \"-c:v\", \"copy\",  # copy the video stream as-is\n",
    "        \"-c:a\", \"aac\",   # re-encode audio to AAC\n",
    "        \"-strict\", \"experimental\",\n",
    "        final_video_path\n",
    "    ]\n",
    "    subprocess.run(combine_cmd, check=True)\n",
    "    print('999')\n",
    "    if not os.path.exists(final_video_path) or os.path.getsize(final_video_path) == 0:\n",
    "        return jsonify({'error': 'Final video not created or is empty'}), 500\n",
    "\n",
    "    # 6. Return the final video file to the user\n",
    "    try:\n",
    "        return send_file(final_video_path, as_attachment=True)\n",
    "    except Exception as e:\n",
    "        return jsonify({'error': str(e)}), 500\n"
   ]
  },
  {
   "cell_type": "code",
   "execution_count": 28,
   "metadata": {
    "colab": {
     "base_uri": "https://localhost:8080/"
    },
    "execution": {
     "iopub.execute_input": "2025-03-26T01:34:08.912096Z",
     "iopub.status.busy": "2025-03-26T01:34:08.911822Z",
     "iopub.status.idle": "2025-03-26T01:34:09.287480Z",
     "shell.execute_reply": "2025-03-26T01:34:09.286844Z",
     "shell.execute_reply.started": "2025-03-26T01:34:08.912075Z"
    },
    "id": "1Lmb1zbruzHT",
    "outputId": "e9dadeaf-15df-4a18-d5d0-aca7485194bd",
    "trusted": true
   },
   "outputs": [
    {
     "name": "stdout",
     "output_type": "stream",
     "text": [
      "Public URL: NgrokTunnel: \"https://d5cf-34-118-199-81.ngrok-free.app\" -> \"http://localhost:5000\"\n"
     ]
    }
   ],
   "source": [
    "from pyngrok import ngrok\n",
    "\n",
    "# Replace 'YOUR_NGROK_AUTHTOKEN' with your actual authtoken\n",
    "ngrok.set_auth_token(\"2txp3R7jVIYI0JypXZMq8pntZt5_2FcHzmQ5ShqXkrt7cMM5K\")\n",
    "\n",
    "# Now open the tunnel\n",
    "public_url = ngrok.connect(5000, \"http\")\n",
    "print(\"Public URL:\", public_url)"
   ]
  },
  {
   "cell_type": "code",
   "execution_count": null,
   "metadata": {
    "execution": {
     "iopub.status.busy": "2025-03-26T00:56:41.873925Z",
     "iopub.status.idle": "2025-03-26T00:56:41.874280Z",
     "shell.execute_reply": "2025-03-26T00:56:41.874108Z"
    },
    "id": "KVLqoRi0JRP-",
    "trusted": true
   },
   "outputs": [],
   "source": [
    "# from flask import Flask, request\n",
    "\n",
    "# app = Flask(__name__)\n",
    "# app.config['MAX_CONTENT_LENGTH'] = 5 * 1024 * 1024  # 50 MB limit"
   ]
  },
  {
   "cell_type": "code",
   "execution_count": 29,
   "metadata": {
    "colab": {
     "base_uri": "https://localhost:8080/"
    },
    "execution": {
     "iopub.execute_input": "2025-03-26T01:34:13.186143Z",
     "iopub.status.busy": "2025-03-26T01:34:13.185851Z",
     "iopub.status.idle": "2025-03-26T01:44:35.373141Z",
     "shell.execute_reply": "2025-03-26T01:44:35.372392Z",
     "shell.execute_reply.started": "2025-03-26T01:34:13.186120Z"
    },
    "id": "9PB7zuMsuzHT",
    "outputId": "6169f754-b42f-4923-bf25-e6dc3dae33c3",
    "trusted": true
   },
   "outputs": [
    {
     "name": "stdout",
     "output_type": "stream",
     "text": [
      " * Serving Flask app '__main__'\n",
      " * Debug mode: off\n",
      " * Running on http://d5cf-34-118-199-81.ngrok-free.app\n",
      " * Traffic stats available on http://127.0.0.1:4040\n",
      "111\n",
      "222\n",
      "333\n",
      "3331\n",
      "3332\n",
      "3333\n",
      "3334\n",
      "3335\n",
      "444\n",
      "555\n",
      "Found enhanced audio at: /kaggle/working/enhanced_audio/htdemucs/tmp6b60d5ch/vocals.mp3\n",
      "666\n",
      "999\n"
     ]
    }
   ],
   "source": [
    "if __name__ == '__main__':\n",
    "    app.run()"
   ]
  },
  {
   "cell_type": "code",
   "execution_count": null,
   "metadata": {
    "id": "My-BcqP5Kzmm",
    "trusted": true
   },
   "outputs": [],
   "source": []
  },
  {
   "cell_type": "code",
   "execution_count": null,
   "metadata": {
    "id": "My-BcqP5Kzmm",
    "trusted": true
   },
   "outputs": [],
   "source": []
  },
  {
   "cell_type": "code",
   "execution_count": null,
   "metadata": {
    "trusted": true
   },
   "outputs": [],
   "source": []
  }
 ],
 "metadata": {
  "accelerator": "GPU",
  "colab": {
   "gpuType": "T4",
   "provenance": []
  },
  "kaggle": {
   "accelerator": "gpu",
   "dataSources": [
    {
     "datasetId": 6020973,
     "sourceId": 9819832,
     "sourceType": "datasetVersion"
    },
    {
     "datasetId": 6968496,
     "sourceId": 11166732,
     "sourceType": "datasetVersion"
    }
   ],
   "dockerImageVersionId": 30919,
   "isGpuEnabled": true,
   "isInternetEnabled": true,
   "language": "python",
   "sourceType": "notebook"
  },
  "kernelspec": {
   "display_name": "Python 3",
   "language": "python",
   "name": "python3"
  },
  "language_info": {
   "codemirror_mode": {
    "name": "ipython",
    "version": 3
   },
   "file_extension": ".py",
   "mimetype": "text/x-python",
   "name": "python",
   "nbconvert_exporter": "python",
   "pygments_lexer": "ipython3",
   "version": "3.10.12"
  }
 },
 "nbformat": 4,
 "nbformat_minor": 4
}
